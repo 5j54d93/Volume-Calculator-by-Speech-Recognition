{
  "cells": [
    {
      "cell_type": "markdown",
      "metadata": {
        "id": "view-in-github",
        "colab_type": "text"
      },
      "source": [
        "<a href=\"https://colab.research.google.com/github/5j54d93/Volume-Calculator-by-Speech-Recognition/blob/main/Volume-Calculator-by-Speech-Recognition.ipynb\" target=\"_parent\"><img src=\"https://colab.research.google.com/assets/colab-badge.svg\" alt=\"Open In Colab\"/></a>"
      ]
    },
    {
      "cell_type": "code",
      "execution_count": null,
      "metadata": {
        "id": "INlTjiXi3OxP",
        "outputId": "c5c54170-2fd9-4a17-ec88-481d961b0ae1"
      },
      "outputs": [
        {
          "name": "stdout",
          "output_type": "stream",
          "text": [
            "pygame 2.1.1 (SDL 2.0.18, Python 3.9.6)\n",
            "Hello from the pygame community. https://www.pygame.org/contribute.html\n"
          ]
        }
      ],
      "source": [
        "try:\n",
        "  import speech_recognition as sr\n",
        "except:\n",
        "  %pip install SpeechRecognition\n",
        "  import speech_recognition as sr\n",
        "\n",
        "try:\n",
        "  import pyaudio\n",
        "except:\n",
        "  %pip install pipwin\n",
        "  !pipwin install pyaudio\n",
        "  import pyaudio\n",
        "\n",
        "try:\n",
        "  from gtts import gTTS\n",
        "except:\n",
        "  %pip install gTTS\n",
        "  from gtts import gTTS\n",
        "\n",
        "try:\n",
        "  import pygame\n",
        "except:\n",
        "  %pip install pygame\n",
        "  import pygame\n",
        "\n",
        "from io import BytesIO"
      ],
      "id": "INlTjiXi3OxP"
    },
    {
      "cell_type": "markdown",
      "metadata": {
        "id": "zeYKGMpG3OxS"
      },
      "source": [
        "#### 使用語音辨識 程式樣板\n",
        "    def bot_listening():\n",
        "      rg = sr.Recognizer()\n",
        "      with sr.Microphone() as source: # 語音來源\n",
        "        audioData = rg.listen(source)\n",
        "        try:\n",
        "          text = rg.recognize_google(audioData, language='zh-tw')\n",
        "        except:\n",
        "          text = None\n",
        "      return text    \n",
        "+ language\n",
        "<a href='https://cloud.google.com/speech-to-text/docs/languages' target='blank_'>支持的語言及其代碼</a>"
      ],
      "id": "zeYKGMpG3OxS"
    },
    {
      "cell_type": "code",
      "execution_count": null,
      "metadata": {
        "id": "SPNLHTSq3OxT",
        "outputId": "49a02979-b78e-4cb7-8eca-5cf226b741d9"
      },
      "outputs": [
        {
          "name": "stdout",
          "output_type": "stream",
          "text": [
            "None\n"
          ]
        }
      ],
      "source": [
        "import os\n",
        "# import tempfile\n",
        "\n",
        "class speech_to_text:\n",
        "  def __init__(self):  \n",
        "    self.rg = sr.Recognizer()\n",
        "  def listen(self,lang='zh-tw'):  \n",
        "    with sr.Microphone() as source:\n",
        "      self.rg.adjust_for_ambient_noise(source)\n",
        "      audioData = self.rg.listen(source)\n",
        "      try:\n",
        "        text = self.rg.recognize_google(audioData, language=lang)    \n",
        "      except:\n",
        "        text = None\n",
        "    return text\n",
        "\n",
        "class text_to_speech:\n",
        "  def __init__(self):\n",
        "    self.active_mp3  = 'c:\\\\tmp\\\\tmp2.mp3'\n",
        "    pygame.mixer.init()\n",
        "  def __del__(self):\n",
        "    try:\n",
        "      os.unlink(self.active_mp3)  \n",
        "    except:\n",
        "      pass\n",
        "  def speak(self,text,lang='zh-tw'): \n",
        "    tts= gTTS(text, lang=lang)\n",
        "    tts.save(self.active_mp3)\n",
        "    pygame.mixer.music.load(self.active_mp3)\n",
        "    pygame.mixer.music.play()\n",
        "    while pygame.mixer.music.get_busy():\n",
        "      continue\n",
        "    pygame.mixer.music.unload()\n",
        "    return\n",
        "\n",
        "\n",
        "st = speech_to_text()\n",
        "ts = text_to_speech()\n",
        "print(st.listen())"
      ],
      "id": "SPNLHTSq3OxT"
    },
    {
      "cell_type": "code",
      "execution_count": null,
      "id": "e934d12c",
      "metadata": {
        "id": "e934d12c",
        "outputId": "c70175cc-7f0e-4bed-adb4-5f661cd7097d"
      },
      "outputs": [
        {
          "name": "stdout",
          "output_type": "stream",
          "text": [
            "半徑是 17\n",
            "答案是 20569.093\n"
          ]
        }
      ],
      "source": [
        "import re\n",
        "\n",
        "ts.speak(\"可以開始說話了\")\n",
        "input = st.listen()\n",
        "\n",
        "match_長方體 = re.search(r'長方體體積', input)\n",
        "match_正方體 = re.search(r'正方體體積', input)\n",
        "match_圓形 = re.search(r'圓形體積', input)\n",
        "\n",
        "if match_長方體:\n",
        "    ts.speak(\"長是多少\")\n",
        "    長 = st.listen()\n",
        "    while 長 == None:\n",
        "        ts.speak(\"再說一次\")\n",
        "        長 = st.listen()\n",
        "    print(\"長是{}\".format(長))\n",
        "\n",
        "    ts.speak(\"寬是多少\")\n",
        "    寬 = st.listen()\n",
        "    while 寬 == None:\n",
        "        ts.speak(\"再說一次\")\n",
        "        寬 = st.listen()\n",
        "    print(\"寬是{}\".format(寬))\n",
        "\n",
        "    ts.speak(\"高是多少\")\n",
        "    高 = st.listen()\n",
        "    while 高 == None:\n",
        "        ts.speak(\"再說一次\")\n",
        "        高 = st.listen()\n",
        "    print(\"高是{}\".format(高))\n",
        "\n",
        "    print(\"答案是 {}\".format(int(長)*int(寬)*int(高)))\n",
        "    ts.speak(\"答案是 {}\".format(int(長)*int(寬)*int(高)))\n",
        "    \n",
        "elif match_正方體:\n",
        "    ts.speak(\"邊長是多少\")\n",
        "    邊長 = st.listen()\n",
        "    while 邊長 == None:\n",
        "        ts.speak(\"再說一次\")\n",
        "        邊長 = st.listen()\n",
        "    print(\"邊長是{}\".format(邊長))\n",
        "    \n",
        "    print(\"答案是 {}\".format(int(邊長)*int(邊長)*int(邊長)))\n",
        "    ts.speak(\"答案是 {}\".format(int(邊長)*int(邊長)*int(邊長)))\n",
        "    \n",
        "elif match_圓形:\n",
        "    ts.speak(\"半徑是多少\")\n",
        "    半徑 = st.listen()\n",
        "    while 半徑 == None:\n",
        "        ts.speak(\"再說一次\")\n",
        "        半徑 = st.listen()\n",
        "    print(\"半徑是 {}\".format(半徑))\n",
        "\n",
        "    print(\"答案是 {0:.{1}f}\".format(4/3*3.14*int(半徑)*int(半徑)*int(半徑), 3))\n",
        "    ts.speak(\"答案是 {0:.{1}f}\".format(4/3*3.14*int(半徑)*int(半徑)*int(半徑), 3))\n",
        "    "
      ]
    },
    {
      "cell_type": "code",
      "execution_count": null,
      "metadata": {
        "id": "deOcrWz33OxU"
      },
      "outputs": [],
      "source": [
        "del ts"
      ],
      "id": "deOcrWz33OxU"
    }
  ],
  "metadata": {
    "interpreter": {
      "hash": "fcd482774245fc93509c8e9059e1ffbdf461c2ec438abc7b21a16b439eed9570"
    },
    "kernelspec": {
      "display_name": "Python 3.9.6 64-bit",
      "name": "python3"
    },
    "language_info": {
      "codemirror_mode": {
        "name": "ipython",
        "version": 3
      },
      "file_extension": ".py",
      "mimetype": "text/x-python",
      "name": "python",
      "nbconvert_exporter": "python",
      "pygments_lexer": "ipython3",
      "version": "3.9.6"
    },
    "colab": {
      "provenance": [],
      "include_colab_link": true
    }
  },
  "nbformat": 4,
  "nbformat_minor": 5
}